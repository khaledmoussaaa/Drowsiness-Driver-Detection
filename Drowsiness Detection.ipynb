{
 "cells": [
  {
   "cell_type": "markdown",
   "id": "8acddb14",
   "metadata": {},
   "source": [
    "## Imports\n",
    "Imports some library to using a collection of functions that can be added to my project in python code and called as necessary."
   ]
  },
  {
   "cell_type": "code",
   "execution_count": 1,
   "id": "28b9f7f1",
   "metadata": {},
   "outputs": [],
   "source": [
    "import numpy as np\n",
    "import cv2 as cv\n",
    "import os\n",
    "import datetime\n",
    "import winsound\n",
    "from tkinter import*\n",
    "from keras.models import load_model"
   ]
  },
  {
   "cell_type": "markdown",
   "id": "3a2e0e7e",
   "metadata": {},
   "source": [
    "## Haar Cascade Algorithm\n",
    "The haar cascade algorithm recognize or detect the face to find human’s eyes and used to classify objects based on their interesting features."
   ]
  },
  {
   "cell_type": "code",
   "execution_count": 2,
   "id": "d802dd24",
   "metadata": {},
   "outputs": [],
   "source": [
    "face_cascade = cv.CascadeClassifier('Haar Cascade Files\\haarcascade_frontalface_alt.xml') ## Front Face\n",
    "right_eye_cascade = cv.CascadeClassifier('Haar Cascade Files\\haarcascade_righteye_2splits.xml') ## Right Eye\n",
    "left_eye_cascade = cv.CascadeClassifier('Haar Cascade Files\\haarcascade_lefteye_2splits.xml') ## Left Eye"
   ]
  },
  {
   "cell_type": "markdown",
   "id": "cb40391b",
   "metadata": {},
   "source": [
    "## Loading Model (CNN)"
   ]
  },
  {
   "cell_type": "code",
   "execution_count": 3,
   "id": "bebb78a3",
   "metadata": {},
   "outputs": [],
   "source": [
    "model = load_model('Model/Drowsiness Driver Detection_Model.h5') ## Loading Model to predict whether eye are open or closed"
   ]
  },
  {
   "cell_type": "markdown",
   "id": "7138eb84",
   "metadata": {},
   "source": [
    "## Implementation\n",
    "Collect a dataset from a reliable source and then send it to be preprocessing which filter images and sends them to a convolutional neural network (CNN) to predict whether eyes closed or open. The trained dataset is made up of multiple images with open and closed eyes. When using the haar cascade classifier to classify an object and extracting a face expression and left and right eye from XML files to be detected. The only data for left eye feed it into CNN classifier to predict the results will be presented as if an eye is closed or open. The same process is used with the right eye data. CNN will predict whether eyes are closed or open."
   ]
  },
  {
   "cell_type": "code",
   "execution_count": 4,
   "id": "6a6e54a3",
   "metadata": {},
   "outputs": [],
   "source": [
    "def startDetection(): ## Start Function it include detection implementation\n",
    "    path = os.getcwd()\n",
    "    capture = cv.VideoCapture(0)\n",
    "    font = cv.FONT_HERSHEY_COMPLEX_SMALL\n",
    "    \n",
    "    label = ['Open' , 'Closed'] ## label array for type of string include Open or Closed elements\n",
    "    right_predict = [[99,99]]\n",
    "    left_predict = [[99,99]]\n",
    "    \n",
    "    detect = \"\" \n",
    "    score = 0\n",
    "    frquency = 2000\n",
    "    duration = 500\n",
    "    \n",
    "    while True:\n",
    "        ret, frame = capture.read()\n",
    "        height,width = frame.shape[:2]\n",
    "        input_RGB = cv.cvtColor(frame, cv.COLOR_BGR2RGB)\n",
    "        \n",
    "        faces = face_cascade.detectMultiScale(input_RGB,minNeighbors=5,scaleFactor=1.3,minSize=(25,25))\n",
    "        right_eye = right_eye_cascade.detectMultiScale(input_RGB)\n",
    "        left_eye = left_eye_cascade.detectMultiScale(input_RGB)\n",
    "        \n",
    "        if faces == ():\n",
    "            cv.putText(frame, 'Face Not Found', (250,height-20), font, 1, (255,255,255), 2, cv.LINE_AA)\n",
    "            score = 0\n",
    "        else:\n",
    "            for (x,y,w,h) in faces:\n",
    "                if(detect == 'Open'):\n",
    "                    cv.rectangle(frame, (x,y) , (x+w,y+h) , (0,255,0) , 2)\n",
    "                else:\n",
    "                    cv.rectangle(frame, (x,y) , (x+w,y+h) , (0,0,255) , 2)\n",
    "                \n",
    "            for (x,y,w,h) in right_eye:\n",
    "                r_eye  = frame[y:y+h,x:x+w]\n",
    "                r_eye = cv.cvtColor(r_eye,cv.COLOR_BGR2RGB)\n",
    "                r_eye = cv.resize(r_eye,(24,24))\n",
    "                r_eye = r_eye/255\n",
    "                r_eye =  r_eye.reshape(24,24,3)\n",
    "                r_eye = np.expand_dims(r_eye,axis=0)\n",
    "                right_predict = model.predict(r_eye)\n",
    "                #cv.rectangle(frame, (x,y) , (x+w,y+h) , (100,100,100) , 2)\n",
    "                                \n",
    "                if(right_predict[0][0] < right_predict[0][1]):\n",
    "                    label = 'Open'\n",
    "                elif(right_predict[0][0] > right_predict[0][1]):\n",
    "                    label = 'Closed'\n",
    "                break\n",
    "                        \n",
    "            for (x,y,w,h) in left_eye:\n",
    "                l_eye = frame[y:y+h,x:x+w]\n",
    "                l_eye = cv.cvtColor(l_eye,cv.COLOR_BGR2RGB)\n",
    "                l_eye = cv.resize(l_eye,(24,24))\n",
    "                l_eye = l_eye/255\n",
    "                l_eye = l_eye.reshape(24,24,3)\n",
    "                l_eye = np.expand_dims(l_eye,axis=0)\n",
    "                left_predict = model.predict(l_eye)\n",
    "                #cv.rectangle(frame, (x,y) , (x+w,y+h) , (100,100,100) , 2)\n",
    "                \n",
    "                if(left_predict[0][0] < left_predict[0][1]):\n",
    "                    label = 'Open'\n",
    "                elif(left_predict[0][0] > left_predict[0][1]):\n",
    "                    label = 'Closed'\n",
    "                break\n",
    "                    \n",
    "            if((right_predict[0][0] > right_predict[0][1]) and (left_predict[0][0] > left_predict[0][1])):\n",
    "                display = cv.putText(frame, \"Closed\", (10,height-20), font, 1, (0,0,255), 2, cv.LINE_AA)\n",
    "                score = score + 1\n",
    "                detect = 'Closed'\n",
    "            else:\n",
    "                display = cv.putText(frame, \"Open\", (10,height-20), font, 1, (0,255,0), 2, cv.LINE_AA)\n",
    "                score = score - 1\n",
    "                detect = 'Open'\n",
    "                \n",
    "            if(score < 0):\n",
    "                score = 0\n",
    "            display = cv.putText(frame, \"Score: \"+str(score), (100,height-20), font, 1, (255,255,255), 2, cv.LINE_AA)\n",
    "            \n",
    "            if(score > 10):\n",
    "                try:\n",
    "                    winsound.Beep(frquency,duration)\n",
    "                    if(detect == 'Open'):\n",
    "                        score = 9\n",
    "                except:\n",
    "                    pass\n",
    "             \n",
    "        cv.imshow('Drowsiness Driver Detection Webcam',frame)  \n",
    "        key=cv.waitKey(1)\n",
    "        if key%256 == 27:\n",
    "            break\n",
    "    capture.release()\n",
    "    cv.destroyAllWindows()"
   ]
  },
  {
   "cell_type": "markdown",
   "id": "893db742",
   "metadata": {},
   "source": [
    "## GUI\n",
    "Control the system from user interface like start detection, exit system, close detection."
   ]
  },
  {
   "cell_type": "code",
   "execution_count": 5,
   "id": "9f81926e",
   "metadata": {},
   "outputs": [
    {
     "name": "stderr",
     "output_type": "stream",
     "text": [
      "<ipython-input-4-cd8f4b8c00e7>:24: DeprecationWarning: elementwise comparison failed; this will raise an error in the future.\n",
      "  if faces == ():\n"
     ]
    }
   ],
   "source": [
    "gui = Tk()\n",
    "gui.title('Drowsiness Driver Detection System Alert')\n",
    "\n",
    "sc_width = 1000\n",
    "sc_height = 650\n",
    "\n",
    "date = datetime.datetime.now()\n",
    "\n",
    "img = PhotoImage(file = \"Cover GUI/Cover Image.png\")\n",
    "Label(gui,image=img,bg='white').place(x=25 , y=80)\n",
    "\n",
    "screen_width =  gui.winfo_screenwidth()\n",
    "screen_height = gui.winfo_screenheight()\n",
    "\n",
    "x_center = (screen_width / 2) - (sc_width / 2)\n",
    "y_center = (screen_height / 2) - (sc_height/2)\n",
    "\n",
    "gui.geometry(f'{sc_width}x{sc_height}+{int(x_center)}+{int(y_center)}')\n",
    "gui.configure(bg = 'white')\n",
    "\n",
    "frame = Frame(gui, width = 500, height = 350, bg = 'white')\n",
    "frame.place(relx = 0.7, rely = 0.2, anchor = CENTER)\n",
    "\n",
    "heading_Title = Label(frame, text = 'Drowsiness Driver Detection System', fg = 'black', bg = 'white',font = ('Microsoft YaHei UI Light', 20, 'bold'))\n",
    "heading_Title.place(relx = 0.5, rely = 0.5, anchor = CENTER)\n",
    "\n",
    "dateTime = Label(frame,text=f\"{date:%A, %B %d, %Y}\",fg = 'gray', bg = 'white', font = ('Calibri', 12, 'bold'))\n",
    "dateTime.place(relx = 0.5, rely=0.35, anchor = CENTER)\n",
    "\n",
    "Start_Button = Button(frame,width = 20, pady = 6, text = 'Start Detection',  fg = 'white', bg = 'black',border = 0, command = startDetection)\n",
    "Start_Button.place(relx = 0.5, rely = 0.8, anchor = CENTER)\n",
    "\n",
    "ExitWindow_Button = Button(frame,width = 20, pady = 6, text = 'Exit Window', fg = 'white', bg = 'black',border = 0, command = gui.destroy)\n",
    "ExitWindow_Button.place(relx = 0.5, rely = 0.95, anchor = CENTER)\n",
    "\n",
    "gui.mainloop()"
   ]
  }
 ],
 "metadata": {
  "kernelspec": {
   "display_name": "Python 3",
   "language": "python",
   "name": "python3"
  },
  "language_info": {
   "codemirror_mode": {
    "name": "ipython",
    "version": 3
   },
   "file_extension": ".py",
   "mimetype": "text/x-python",
   "name": "python",
   "nbconvert_exporter": "python",
   "pygments_lexer": "ipython3",
   "version": "3.8.8"
  }
 },
 "nbformat": 4,
 "nbformat_minor": 5
}
